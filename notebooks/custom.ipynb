{
 "cells": [
  {
   "cell_type": "code",
   "execution_count": null,
   "id": "0",
   "metadata": {},
   "outputs": [],
   "source": [
    "import logging\n",
    "import warnings\n",
    "\n",
    "import pandas as pd\n",
    "from lightning import seed_everything\n",
    "\n",
    "from fxguard.data import TimeSeries\n",
    "from fxguard.models import TiDELite\n",
    "from sklearn.model_selection import TimeSeriesSplit\n",
    "from sklearn.preprocessing import MinMaxScaler\n",
    "from sklearn.pipeline import Pipeline\n",
    "from sklearn.compose import ColumnTransformer\n",
    "from darts.utils.model_selection import train_test_split\n",
    "from fxguard.utils.scaler import Scaler\n",
    "warnings.filterwarnings('ignore', 'GPU available')\n",
    "logging.getLogger('lightning.pytorch.accelerators.cuda').setLevel(logging.WARNING)\n",
    "\n",
    "\n",
    "SEED = seed_everything(42)"
   ]
  },
  {
   "cell_type": "code",
   "execution_count": null,
   "id": "1",
   "metadata": {},
   "outputs": [],
   "source": [
    "df = pd.read_csv('../data/raw/yfinance_source.csv', parse_dates=['date'])"
   ]
  },
  {
   "cell_type": "code",
   "execution_count": null,
   "id": "2",
   "metadata": {},
   "outputs": [],
   "source": [
    "melt = df.melt(id_vars='date').dropna()\n",
    "melt['variable'] = melt['variable'].astype('category').cat.codes # here to try get static covs to be used. Encoding to be moved inside dataset after\n",
    "ts = TimeSeries.from_group_dataframe(melt, group_col='variable', time_col='date', value_cols='value')"
   ]
  },
  {
   "cell_type": "code",
   "execution_count": null,
   "id": "3",
   "metadata": {},
   "outputs": [],
   "source": [
    "scaler = Scaler()\n",
    "ts_scaled = scaler.fit_transform(ts)"
   ]
  },
  {
   "cell_type": "code",
   "execution_count": null,
   "id": "4",
   "metadata": {},
   "outputs": [],
   "source": [
    "temp = []\n",
    "for _ in range(len(ts[5])//5):\n",
    "    temp.extend([1,2,3,4,5])\n",
    "\n",
    "past_cov = TimeSeries(times=ts_scaled[5].time_index,values=temp,components=['test'])\n",
    "covariates = {'past_covariates':None,'future_covariates':None}"
   ]
  },
  {
   "cell_type": "code",
   "execution_count": null,
   "id": "5",
   "metadata": {},
   "outputs": [],
   "source": [
    "model = TiDELite(20, 1,trainer_kwargs={'accelerator':'cpu','deterministic':True},batch_size=128,use_static_covariates=False)\n",
    "model.fit(ts_scaled,**covariates,epochs=2)"
   ]
  },
  {
   "cell_type": "code",
   "execution_count": null,
   "id": "6",
   "metadata": {},
   "outputs": [],
   "source": [
    "forecast = model.historical_forecast(ts_scaled,**covariates)"
   ]
  },
  {
   "cell_type": "code",
   "execution_count": null,
   "id": "7",
   "metadata": {},
   "outputs": [],
   "source": [
    "ax = forecast[0].plot(label='predicted')\n",
    "ts_scaled[0].plot(ax=ax)"
   ]
  },
  {
   "cell_type": "code",
   "execution_count": null,
   "id": "8",
   "metadata": {},
   "outputs": [],
   "source": [
    "from darts import TimeSeries\n",
    "from darts.models import TiDEModel\n",
    "from darts.dataprocessing.transformers import Scaler\n",
    "d = df.copy().set_index('date',drop=True).asfreq('D').ffill()\n",
    "scaler = Scaler()"
   ]
  },
  {
   "cell_type": "code",
   "execution_count": null,
   "id": "9",
   "metadata": {},
   "outputs": [],
   "source": [
    "d_melt = d.reset_index().melt(id_vars='date').dropna().set_index('date')\n",
    "d_melt['variable'] = d_melt['variable'].astype('category').cat.codes\n",
    "data = TimeSeries.from_group_dataframe(d_melt,group_cols='variable',value_cols='value')\n",
    "data = scaler.fit_transform(data)\n",
    "d_model = TiDEModel(20,1,pl_trainer_kwargs={'max_steps':1000,'accelerator':'cpu','deterministic':True},batch_size=128,use_static_covariates=False)\n",
    "d_model.fit(data)\n",
    "d_forecast = d_model.historical_forecasts(series=data,retrain=False,last_points_only=True)\n",
    "d_forecast[0].plot()\n",
    "data[0].plot()"
   ]
  }
 ],
 "metadata": {
  "kernelspec": {
   "display_name": "fxguard",
   "language": "python",
   "name": "python3"
  },
  "language_info": {
   "codemirror_mode": {
    "name": "ipython",
    "version": 3
   },
   "file_extension": ".py",
   "mimetype": "text/x-python",
   "name": "python",
   "nbconvert_exporter": "python",
   "pygments_lexer": "ipython3",
   "version": "3.13.5"
  }
 },
 "nbformat": 4,
 "nbformat_minor": 5
}
